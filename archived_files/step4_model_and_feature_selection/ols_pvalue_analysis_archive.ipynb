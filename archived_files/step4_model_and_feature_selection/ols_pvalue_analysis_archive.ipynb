{
 "cells": [
  {
   "cell_type": "code",
   "execution_count": 48,
   "metadata": {},
   "outputs": [],
   "source": [
    "import pandas as pd\n",
    "from pandas.plotting import scatter_matrix\n",
    "import numpy as np\n",
    "import matplotlib.pyplot as plt \n",
    "import statsmodels.api as sm\n",
    "from statsmodels.sandbox.regression.predstd import wls_prediction_std\n",
    "import sklearn.preprocessing\n",
    "from sklearn.preprocessing import OneHotEncoder\n",
    "from sklearn.compose import ColumnTransformer\n",
    "from sklearn.model_selection import train_test_split\n",
    "from scipy.stats import stats\n",
    "import pickle\n",
    "import matplotlib.pyplot as plt\n",
    "import seaborn as sns\n",
    "\n",
    "import warnings\n",
    "warnings.filterwarnings(\"ignore\")"
   ]
  },
  {
   "cell_type": "markdown",
   "metadata": {},
   "source": [
    "### Retrieve training data"
   ]
  },
  {
   "cell_type": "code",
   "execution_count": 49,
   "metadata": {},
   "outputs": [],
   "source": [
    "X_train = pd.read_csv('X_train.csv', index_col=0)\n",
    "\n",
    "pickle_in = open('y_train.pickle', 'rb')\n",
    "y_train = pickle.load(pickle_in)"
   ]
  },
  {
   "cell_type": "markdown",
   "metadata": {},
   "source": [
    "### OLS One Time Function"
   ]
  },
  {
   "cell_type": "code",
   "execution_count": 50,
   "metadata": {},
   "outputs": [],
   "source": [
    "def onetime_ols(X_train, y_train):\n",
    "    # Create x constants\n",
    "    Xconst = sm.add_constant(X_train)\n",
    "\n",
    "    # Create OLS model and summary\n",
    "    ols_model = sm.OLS(y_train, Xconst, hasconst= True)\n",
    "    est = ols_model.fit()\n",
    "    results = est.summary()\n",
    "    \n",
    "    return est, results"
   ]
  },
  {
   "cell_type": "markdown",
   "metadata": {},
   "source": [
    "### OLS Loop Function"
   ]
  },
  {
   "cell_type": "code",
   "execution_count": 51,
   "metadata": {},
   "outputs": [],
   "source": [
    "def ols_loop(X_train, y_train, run):\n",
    "\n",
    "    # Create x constants\n",
    "    Xconst = sm.add_constant(X_train)\n",
    "\n",
    "    # Create OLS model and summary\n",
    "    ols_model = sm.OLS(y_train, Xconst, hasconst= True)\n",
    "    est = ols_model.fit()\n",
    "    results = est.summary()\n",
    "\n",
    "    # Capture r2_adj \n",
    "    r2_adj = est.rsquared_adj\n",
    "\n",
    "    # Load summary info into dataframe for processing\n",
    "    results_as_html = results.tables[1].as_html()\n",
    "    results_df = pd.read_html(results_as_html, header=0, index_col=0)[0]\n",
    "    results_df = results_df.reset_index()\n",
    "    results_df = results_df.rename(columns={'index':'feature'})\n",
    "    results_df = results_df[1:]\n",
    "\n",
    "    # Identify highest p-value in data set\n",
    "    kill_cols = results_df[results_df['P>|t|'] == results_df['P>|t|'].max()]\n",
    "    highest_p_col = kill_cols['feature'].values\n",
    "    highest_p = kill_cols['P>|t|'].values\n",
    "\n",
    "    # Remove feature with highest p-value\n",
    "    X_chop = X_train.drop(columns=highest_p_col)\n",
    "\n",
    "    # Capture values from test in dictionary\n",
    "    run_dict = {'test_run': run, \\\n",
    "            'r2_adj': r2_adj, \\\n",
    "            'highest_feature': highest_p_col,\\\n",
    "            'highest_pval': highest_p[0]}\n",
    "    \n",
    "    return X_chop, run_dict"
   ]
  },
  {
   "cell_type": "markdown",
   "metadata": {},
   "source": [
    "### View initial residual plot for a basline look at the residuals in the regression"
   ]
  },
  {
   "cell_type": "code",
   "execution_count": 52,
   "metadata": {},
   "outputs": [
    {
     "data": {
      "image/png": "[encoded data removed]",
      "text/plain": [
       "<Figure size 432x288 with 1 Axes>"
      ]
     },
     "metadata": {
      "needs_background": "light"
     },
     "output_type": "display_data"
    }
   ],
   "source": [
    "ot_est, results = onetime_ols(X_train, y_train)\n",
    "results_as_html = results.tables[1].as_html()\n",
    "results_df = pd.read_html(results_as_html, header=0, index_col=0)[0]\n",
    "results_df = results_df.reset_index()\n",
    "results_df = results_df.rename(columns={'index':'feature'})\n",
    "\n",
    "results_df;\n",
    "\n",
    "onetime_ols(X_train, y_train)\n",
    "\n",
    "y_pred = ot_est.predict()\n",
    "\n",
    "sns.residplot(x=y_train, y=y_pred);"
   ]
  },
  {
   "cell_type": "markdown",
   "metadata": {},
   "source": [
    "### It appears there are __outliers to be removed__.  This inlcude the y_train values around 7,000,000 and the y_train value corresponding to the maximum y_pred value"
   ]
  },
  {
   "cell_type": "markdown",
   "metadata": {},
   "source": [
    "Remove y_train outliers"
   ]
  },
  {
   "cell_type": "code",
   "execution_count": 59,
   "metadata": {},
   "outputs": [
    {
     "name": "stdout",
     "output_type": "stream",
     "text": [
      "[16147  7358]\n",
      "[ 467000. 7060000.]\n"
     ]
    }
   ],
   "source": [
    "ind = np.argpartition(y_train, -1)[-2:]\n",
    "print(ind)\n",
    "print(y_train[ind])\n",
    "\n",
    "# y_train2 = np.delete(y_train, 7358, 0)\n",
    "# y_train2 = np.delete(y_train2, 2194, 0)"
   ]
  },
  {
   "cell_type": "code",
   "execution_count": 60,
   "metadata": {},
   "outputs": [],
   "source": [
    "# x_train2 = X_train.drop(index=7358)"
   ]
  },
  {
   "cell_type": "code",
   "execution_count": 61,
   "metadata": {},
   "outputs": [],
   "source": [
    "# x_train2 = x_train2.drop(index=2194)"
   ]
  },
  {
   "cell_type": "code",
   "execution_count": 62,
   "metadata": {},
   "outputs": [
    {
     "data": {
      "text/plain": [
       "(16147, 252)"
      ]
     },
     "execution_count": 62,
     "metadata": {},
     "output_type": "execute_result"
    }
   ],
   "source": [
    "x_train2.shape"
   ]
  },
  {
   "cell_type": "code",
   "execution_count": 63,
   "metadata": {},
   "outputs": [
    {
     "data": {
      "text/plain": [
       "(16147,)"
      ]
     },
     "execution_count": 63,
     "metadata": {},
     "output_type": "execute_result"
    }
   ],
   "source": [
    "y_train2.shape"
   ]
  },
  {
   "cell_type": "code",
   "execution_count": 64,
   "metadata": {},
   "outputs": [],
   "source": [
    "# ind = np.argpartition(y_pred, -1)[-5:]\n",
    "# print(ind)\n",
    "# print(y_pred[ind])"
   ]
  },
  {
   "cell_type": "code",
   "execution_count": 66,
   "metadata": {},
   "outputs": [
    {
     "data": {
      "image/png": "[encoded data removed]",
      "text/plain": [
       "<Figure size 432x288 with 1 Axes>"
      ]
     },
     "metadata": {
      "needs_background": "light"
     },
     "output_type": "display_data"
    }
   ],
   "source": [
    "ot_est, results = onetime_ols(x_train2, y_train2)\n",
    "results_as_html = results.tables[1].as_html()\n",
    "results_df = pd.read_html(results_as_html, header=0, index_col=0)[0]\n",
    "results_df = results_df.reset_index()\n",
    "results_df = results_df.rename(columns={'index':'feature'})\n",
    "\n",
    "results_df;\n",
    "\n",
    "onetime_ols(x_train2, y_train2)\n",
    "\n",
    "y_pred = ot_est.predict()\n",
    "\n",
    "sns.residplot(x=y_train2, y=y_pred);"
   ]
  },
  {
   "cell_type": "markdown",
   "metadata": {},
   "source": [
    "### Loop for recursive feature elimination\n",
    "Loops removes the highest p_value from an OLS regression and returns the R2 adjusted value and removed feature name"
   ]
  },
  {
   "cell_type": "code",
   "execution_count": 73,
   "metadata": {
    "scrolled": false
   },
   "outputs": [],
   "source": [
    "run = 0\n",
    "for run in range(1, 136):\n",
    "    if run == 1:\n",
    "        x_chop, run_dict = ols_loop(x_train2, y_train2, run)\n",
    "        all_df = pd.DataFrame.from_dict([run_dict])\n",
    "#         print('Run {} complete'.format(run))\n",
    "    else:\n",
    "        x_chop, run_dict = ols_loop(x_chop, y_train2, run)\n",
    "        run_df = pd.DataFrame.from_dict([run_dict])\n",
    "        all_df = pd.concat([all_df, run_df])\n",
    "\n",
    "        #         print('Run {} complete'.format(run))"
   ]
  },
  {
   "cell_type": "markdown",
   "metadata": {},
   "source": [
    "### Review the recursive feature elimination"
   ]
  },
  {
   "cell_type": "code",
   "execution_count": 74,
   "metadata": {
    "scrolled": true
   },
   "outputs": [],
   "source": [
    "all_df;"
   ]
  },
  {
   "cell_type": "markdown",
   "metadata": {},
   "source": [
    "### Review columns returned from ols loop analysis"
   ]
  },
  {
   "cell_type": "code",
   "execution_count": 76,
   "metadata": {
    "scrolled": false
   },
   "outputs": [],
   "source": [
    "ot_est, results = onetime_ols(x_chop, y_train2)\n",
    "results_as_html = results.tables[1].as_html()\n",
    "results_df = pd.read_html(results_as_html, header=0, index_col=0)[0]\n",
    "results_df = results_df.reset_index()\n",
    "results_df = results_df.rename(columns={'index':'feature'})\n",
    "\n",
    "results_df;"
   ]
  },
  {
   "cell_type": "code",
   "execution_count": 77,
   "metadata": {},
   "outputs": [],
   "source": [
    "x_chop.columns\n",
    "x_model = X_train[x_chop.columns]\n",
    "x_model = x_model.reset_index()\n",
    "\n",
    "y_pred = ot_est.predict()"
   ]
  },
  {
   "cell_type": "code",
   "execution_count": 78,
   "metadata": {},
   "outputs": [
    {
     "data": {
      "image/png": "[encoded data removed]",
      "text/plain": [
       "<Figure size 432x288 with 1 Axes>"
      ]
     },
     "metadata": {
      "needs_background": "light"
     },
     "output_type": "display_data"
    }
   ],
   "source": [
    "sns.residplot(x=y_train2, y=y_pred);"
   ]
  },
  {
   "cell_type": "code",
   "execution_count": null,
   "metadata": {},
   "outputs": [],
   "source": [
    "results_df;"
   ]
  },
  {
   "cell_type": "code",
   "execution_count": null,
   "metadata": {},
   "outputs": [],
   "source": [
    "model_features = keep_features['feature'][1:].values"
   ]
  },
  {
   "cell_type": "code",
   "execution_count": null,
   "metadata": {},
   "outputs": [],
   "source": [
    "len(model_features)"
   ]
  },
  {
   "cell_type": "code",
   "execution_count": null,
   "metadata": {},
   "outputs": [],
   "source": [
    "model_df_train = X_train[model_features]\n",
    "model_df_train.shape"
   ]
  },
  {
   "cell_type": "code",
   "execution_count": null,
   "metadata": {
    "scrolled": false
   },
   "outputs": [],
   "source": [
    "Xconst = sm.add_constant(model_df_train)\n",
    "\n",
    "ols_model2 = sm.OLS(y_train, Xconst, hasconst= True)\n",
    "est2 = ols_model2.fit()\n",
    "results2 = est2.summary()\n",
    "\n",
    "results_as_html = results2.tables[1].as_html()\n",
    "results_df = pd.read_html(results_as_html, header=0, index_col=0)[0]\n",
    "\n",
    "results_df = results_df.reset_index()\n",
    "results_df = results_df.rename(columns={'index':'feature'})\n",
    "results_df['abs_t'] = results_df['t'].abs()\n",
    "results2"
   ]
  },
  {
   "cell_type": "code",
   "execution_count": null,
   "metadata": {},
   "outputs": [],
   "source": []
  },
  {
   "cell_type": "code",
   "execution_count": null,
   "metadata": {},
   "outputs": [],
   "source": []
  }
 ],
 "metadata": {
  "kernelspec": {
   "display_name": "Python 3",
   "language": "python",
   "name": "python3"
  },
  "language_info": {
   "codemirror_mode": {
    "name": "ipython",
    "version": 3
   },
   "file_extension": ".py",
   "mimetype": "text/x-python",
   "name": "python",
   "nbconvert_exporter": "python",
   "pygments_lexer": "ipython3",
   "version": "3.7.4"
  }
 },
 "nbformat": 4,
 "nbformat_minor": 2
}
