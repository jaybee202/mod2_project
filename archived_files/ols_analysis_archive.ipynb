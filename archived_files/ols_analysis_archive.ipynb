{
 "cells": [
  {
   "cell_type": "code",
   "execution_count": 18,
   "metadata": {},
   "outputs": [],
   "source": [
    "import pandas as pd\n",
    "from pandas.plotting import scatter_matrix\n",
    "import numpy as np\n",
    "import matplotlib.pyplot as plt \n",
    "import statsmodels.api as sm\n",
    "from statsmodels.sandbox.regression.predstd import wls_prediction_std\n",
    "import sklearn.preprocessing\n",
    "from sklearn.preprocessing import OneHotEncoder\n",
    "from sklearn.compose import ColumnTransformer\n",
    "from sklearn.model_selection import train_test_split\n",
    "from scipy.stats import stats\n",
    "import pickle\n",
    "\n",
    "import warnings\n",
    "warnings.filterwarnings(\"ignore\")"
   ]
  },
  {
   "cell_type": "code",
   "execution_count": 19,
   "metadata": {},
   "outputs": [],
   "source": [
    "X_train = pd.read_csv('X_train.csv', index_col=0)\n",
    "\n",
    "pickle_in = open('y_train.pickle', 'rb')\n",
    "y_train = pickle.load(pickle_in)"
   ]
  },
  {
   "cell_type": "markdown",
   "metadata": {},
   "source": [
    "### OLS Loop Function"
   ]
  },
  {
   "cell_type": "code",
   "execution_count": 34,
   "metadata": {},
   "outputs": [],
   "source": [
    "def ols_run(X, y, run):\n",
    "    Xconst = sm.add_constant(X)\n",
    "\n",
    "    ols_model = sm.OLS(y, Xconst, hasconst= True)\n",
    "    est = ols_model.fit()\n",
    "    results = est.summary()\n",
    "\n",
    "    results_as_html = results.tables[1].as_html()\n",
    "    results_df = pd.read_html(results_as_html, header=0, index_col=0)[0]\n",
    "\n",
    "    results_df = results_df.reset_index()\n",
    "    results_df = results_df.rename(columns={'index':'feature'})\n",
    "    results_df['abs_t'] = results_df['t'].abs()\n",
    "    results_df = results_df[1:]\n",
    "\n",
    "    kill_cols = results_df[results_df.abs_t == results_df.abs_t.min()]\n",
    "    t = kill_cols['t'].values\n",
    "\n",
    "    sum_residuals = sum(est.resid) - sum(y_train)\n",
    "    r2_adj = est.rsquared_adj\n",
    "\n",
    "    run_name = 'ols_run_{}'.format(run)\n",
    "    \n",
    "    run_dict = {run_name: run, \\\n",
    "                't': t,\\\n",
    "                'sum_resid': sum_residuals, \\\n",
    "                'mean_resid': sum_residuals/252,\\\n",
    "                'r2_adj': r2_adj, \\\n",
    "                'kill_cols': kill_cols['feature'].values}\n",
    "#     run_df = pd.DataFrame.from_dict([run_dict])\n",
    "    return run_dict"
   ]
  },
  {
   "cell_type": "code",
   "execution_count": 36,
   "metadata": {},
   "outputs": [
    {
     "data": {
      "text/plain": [
       "array(['bathrooms_2.75'], dtype=object)"
      ]
     },
     "execution_count": 36,
     "metadata": {},
     "output_type": "execute_result"
    }
   ],
   "source": [
    "all_runs = ols_run(X_train, y_train, 1)\n",
    "# X_chop = X_train.drop(columns=all_runs[0])\n",
    "all_runs['kill_cols']\n",
    "# X_train_chop = X_train.drop(all_runs['kill_cols'])\n",
    "# ols_df = run1[1]"
   ]
  },
  {
   "cell_type": "code",
   "execution_count": 10,
   "metadata": {
    "scrolled": false
   },
   "outputs": [
    {
     "ename": "NameError",
     "evalue": "name 'X_chop' is not defined",
     "output_type": "error",
     "traceback": [
      "\u001b[0;31m---------------------------------------------------------------------------\u001b[0m",
      "\u001b[0;31mNameError\u001b[0m                                 Traceback (most recent call last)",
      "\u001b[0;32m<ipython-input-10-dfcc8a6a99db>\u001b[0m in \u001b[0;36m<module>\u001b[0;34m\u001b[0m\n\u001b[1;32m      1\u001b[0m \u001b[0;32mfor\u001b[0m \u001b[0mrun\u001b[0m \u001b[0;32min\u001b[0m \u001b[0mrange\u001b[0m\u001b[0;34m(\u001b[0m\u001b[0;36m0\u001b[0m\u001b[0;34m,\u001b[0m \u001b[0;36m250\u001b[0m\u001b[0;34m)\u001b[0m\u001b[0;34m:\u001b[0m\u001b[0;34m\u001b[0m\u001b[0;34m\u001b[0m\u001b[0m\n\u001b[0;32m----> 2\u001b[0;31m     \u001b[0mrun_data\u001b[0m \u001b[0;34m=\u001b[0m \u001b[0mols_run\u001b[0m\u001b[0;34m(\u001b[0m\u001b[0mX_chop\u001b[0m\u001b[0;34m,\u001b[0m \u001b[0my_train\u001b[0m\u001b[0;34m,\u001b[0m \u001b[0mrun\u001b[0m\u001b[0;34m)\u001b[0m\u001b[0;34m\u001b[0m\u001b[0;34m\u001b[0m\u001b[0m\n\u001b[0m\u001b[1;32m      3\u001b[0m     \u001b[0mall_runs\u001b[0m\u001b[0;34m.\u001b[0m\u001b[0mappend\u001b[0m\u001b[0;34m(\u001b[0m\u001b[0mrun_data\u001b[0m\u001b[0;34m)\u001b[0m\u001b[0;34m\u001b[0m\u001b[0;34m\u001b[0m\u001b[0m\n\u001b[1;32m      4\u001b[0m \u001b[0;31m#     kill_col = run_data[0]\u001b[0m\u001b[0;34m\u001b[0m\u001b[0;34m\u001b[0m\u001b[0;34m\u001b[0m\u001b[0m\n\u001b[1;32m      5\u001b[0m \u001b[0;31m#     run_df = run_data[1]\u001b[0m\u001b[0;34m\u001b[0m\u001b[0;34m\u001b[0m\u001b[0;34m\u001b[0m\u001b[0m\n",
      "\u001b[0;31mNameError\u001b[0m: name 'X_chop' is not defined"
     ]
    }
   ],
   "source": [
    "for run in range(0, 250):\n",
    "    run_data = ols_run(X_chop, y_train, run)\n",
    "    all_runs.append(run_data)\n",
    "#     kill_col = run_data[0]\n",
    "#     run_df = run_data[1]\n",
    "    \n",
    "#     print(kill_col)\n",
    "#     all_runs = pd.concat([all_runs, run_df], axis=0, ignore_index=True)\n",
    "#     X_chop = X_chop.drop(columns=kill_col)"
   ]
  },
  {
   "cell_type": "code",
   "execution_count": null,
   "metadata": {},
   "outputs": [],
   "source": [
    "pd.DataFrame.from_dict([all_runs]).T\n"
   ]
  },
  {
   "cell_type": "code",
   "execution_count": null,
   "metadata": {},
   "outputs": [],
   "source": [
    "run1 = ols_run(X_train, y_train, 1)[1]"
   ]
  },
  {
   "cell_type": "code",
   "execution_count": null,
   "metadata": {},
   "outputs": [],
   "source": [
    "run2 = ols_run(X_train, y_train, 2)[1]"
   ]
  },
  {
   "cell_type": "code",
   "execution_count": null,
   "metadata": {},
   "outputs": [],
   "source": [
    "run1 = pd.concat([run1, run2], axis=0, ignore_index=True)"
   ]
  },
  {
   "cell_type": "code",
   "execution_count": null,
   "metadata": {},
   "outputs": [],
   "source": [
    "run1"
   ]
  },
  {
   "cell_type": "code",
   "execution_count": null,
   "metadata": {},
   "outputs": [],
   "source": [
    "Xconst = sm.add_constant(X_train)\n",
    "\n",
    "ols_model = sm.OLS(y_train, Xconst, hasconst= True)\n",
    "est = ols_model.fit()\n",
    "results = est.summary()\n",
    "\n",
    "results_as_html = results.tables[1].as_html()\n",
    "results_df = pd.read_html(results_as_html, header=0, index_col=0)[0]\n",
    "\n",
    "results_df = results_df.reset_index()\n",
    "results_df = results_df.rename(columns={'index':'feature'})\n",
    "results_df['abs_t'] = results_df['t'].abs()\n",
    "results_df = results_df[1:]\n",
    "\n",
    "kill_cols = results_df[results_df.abs_t == results_df.abs_t.min()]\n",
    "\n",
    "sum_residuals = sum(est.resid) - sum(y_train)\n",
    "r2_adj = est.rsquared_adj\n",
    "\n",
    "run_dict = {'ols_run': run, \\\n",
    "            'sum_resid': sum_residuals, \\\n",
    "            'mean_resid': sum_residuals/252,\\\n",
    "            'r2_adj': r2_adj, \\\n",
    "            'kill_cols': kill_cols}\n",
    "run_df = pd.DataFrame.from_dict([run_dict])"
   ]
  },
  {
   "cell_type": "code",
   "execution_count": null,
   "metadata": {},
   "outputs": [],
   "source": [
    "run_data = ols_run(X_chop, y_train, run)\n",
    "kill_col = run_data[0]\n",
    "run_df = run_data[1]"
   ]
  },
  {
   "cell_type": "code",
   "execution_count": null,
   "metadata": {},
   "outputs": [],
   "source": [
    "\n"
   ]
  },
  {
   "cell_type": "code",
   "execution_count": null,
   "metadata": {},
   "outputs": [],
   "source": []
  }
 ],
 "metadata": {
  "kernelspec": {
   "display_name": "Python 3",
   "language": "python",
   "name": "python3"
  },
  "language_info": {
   "codemirror_mode": {
    "name": "ipython",
    "version": 3
   },
   "file_extension": ".py",
   "mimetype": "text/x-python",
   "name": "python",
   "nbconvert_exporter": "python",
   "pygments_lexer": "ipython3",
   "version": "3.7.4"
  }
 },
 "nbformat": 4,
 "nbformat_minor": 2
}
