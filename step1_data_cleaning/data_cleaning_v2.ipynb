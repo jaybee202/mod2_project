{
 "cells": [
  {
   "cell_type": "markdown",
   "metadata": {},
   "source": [
    "# Data Cleaning of kc_house_data.csv Data"
   ]
  },
  {
   "cell_type": "markdown",
   "metadata": {},
   "source": [
    "### Import required packages"
   ]
  },
  {
   "cell_type": "code",
   "execution_count": 1,
   "metadata": {},
   "outputs": [],
   "source": [
    "import pandas as pd\n",
    "import numpy as np\n",
    "import seaborn as sns\n",
    "from sklearn.impute import SimpleImputer"
   ]
  },
  {
   "cell_type": "markdown",
   "metadata": {},
   "source": [
    "For project examples, reference ISIL Machine Learning Project example as reference"
   ]
  },
  {
   "cell_type": "markdown",
   "metadata": {},
   "source": [
    "### Import kc_house_data.csv to dataframe"
   ]
  },
  {
   "cell_type": "code",
   "execution_count": 2,
   "metadata": {},
   "outputs": [
    {
     "name": "stdout",
     "output_type": "stream",
     "text": [
      "/Users/algrhythm/Flatiron/mod1/section01/Code/dc-ds-021720/mod-2/week-3/Mod2_Project/mod2_project/step1_data_cleaning\r\n"
     ]
    }
   ],
   "source": [
    "!pwd"
   ]
  },
  {
   "cell_type": "code",
   "execution_count": 3,
   "metadata": {},
   "outputs": [],
   "source": [
    "data = pd.read_csv('../../mod2_project/data/kc_house_data.csv')"
   ]
  },
  {
   "cell_type": "markdown",
   "metadata": {},
   "source": [
    "### Review the housing data head"
   ]
  },
  {
   "cell_type": "code",
   "execution_count": 4,
   "metadata": {},
   "outputs": [],
   "source": [
    "data[:3];"
   ]
  },
  {
   "cell_type": "markdown",
   "metadata": {},
   "source": [
    "### Review data.info()"
   ]
  },
  {
   "cell_type": "code",
   "execution_count": 5,
   "metadata": {},
   "outputs": [],
   "source": [
    "# data.info();"
   ]
  },
  {
   "cell_type": "markdown",
   "metadata": {},
   "source": [
    "### Initial issues with the data inlcude:\n",
    "- data.yr_renovated inlcudes 17,755 values across 21,597 rows represnting 17.8% of the data missing or 3,842 rows\n",
    "- data.waterfront includes 19,221 values across 21,597 rows representing 11% of the data missing or 2,376\n",
    "- data.view includes 21,534 values across 21,597 rows represnting 0.003% of the data missing or 63 rows\n",
    "\n",
    "These nulls will updated using imputation later in this notebook."
   ]
  },
  {
   "cell_type": "markdown",
   "metadata": {},
   "source": [
    "### Describe the data dataframe and look for potential errors"
   ]
  },
  {
   "cell_type": "code",
   "execution_count": 6,
   "metadata": {},
   "outputs": [],
   "source": [
    "data.describe();"
   ]
  },
  {
   "cell_type": "markdown",
   "metadata": {},
   "source": [
    "There is a house with 33 bedrooms, this must be reviewed for validity.\n",
    "There is a house with 8 bathrooms, this must be reviewed for validity.\n",
    "There is a house with 3.5 floors, is this an attic?  What does the 0.5 signify?\n",
    "\n",
    "There are some similar columns that are assumed to be highly corelated.  These inlcude:\n",
    "- The sqft_living and sqft_lot will be very similar in that the living footage must be less than or equal to the lot itself\n",
    "- The sqft_living 15 and sqft_lot15 would introduce a similar correlation"
   ]
  },
  {
   "cell_type": "code",
   "execution_count": 7,
   "metadata": {},
   "outputs": [
    {
     "data": {
      "text/html": [
       "<div>\n",
       "<style scoped>\n",
       "    .dataframe tbody tr th:only-of-type {\n",
       "        vertical-align: middle;\n",
       "    }\n",
       "\n",
       "    .dataframe tbody tr th {\n",
       "        vertical-align: top;\n",
       "    }\n",
       "\n",
       "    .dataframe thead th {\n",
       "        text-align: right;\n",
       "    }\n",
       "</style>\n",
       "<table border=\"1\" class=\"dataframe\">\n",
       "  <thead>\n",
       "    <tr style=\"text-align: right;\">\n",
       "      <th></th>\n",
       "      <th>id</th>\n",
       "      <th>date</th>\n",
       "      <th>price</th>\n",
       "      <th>bedrooms</th>\n",
       "      <th>bathrooms</th>\n",
       "      <th>sqft_living</th>\n",
       "      <th>sqft_lot</th>\n",
       "      <th>floors</th>\n",
       "      <th>waterfront</th>\n",
       "      <th>view</th>\n",
       "      <th>...</th>\n",
       "      <th>grade</th>\n",
       "      <th>sqft_above</th>\n",
       "      <th>sqft_basement</th>\n",
       "      <th>yr_built</th>\n",
       "      <th>yr_renovated</th>\n",
       "      <th>zipcode</th>\n",
       "      <th>lat</th>\n",
       "      <th>long</th>\n",
       "      <th>sqft_living15</th>\n",
       "      <th>sqft_lot15</th>\n",
       "    </tr>\n",
       "  </thead>\n",
       "  <tbody>\n",
       "    <tr>\n",
       "      <td>15856</td>\n",
       "      <td>2402100895</td>\n",
       "      <td>6/25/2014</td>\n",
       "      <td>640000.0</td>\n",
       "      <td>33</td>\n",
       "      <td>1.75</td>\n",
       "      <td>1620</td>\n",
       "      <td>6000</td>\n",
       "      <td>1.0</td>\n",
       "      <td>0.0</td>\n",
       "      <td>0.0</td>\n",
       "      <td>...</td>\n",
       "      <td>7</td>\n",
       "      <td>1040</td>\n",
       "      <td>580.0</td>\n",
       "      <td>1947</td>\n",
       "      <td>0.0</td>\n",
       "      <td>98103</td>\n",
       "      <td>47.6878</td>\n",
       "      <td>-122.331</td>\n",
       "      <td>1330</td>\n",
       "      <td>4700</td>\n",
       "    </tr>\n",
       "  </tbody>\n",
       "</table>\n",
       "<p>1 rows × 21 columns</p>\n",
       "</div>"
      ],
      "text/plain": [
       "               id       date     price  bedrooms  bathrooms  sqft_living  \\\n",
       "15856  2402100895  6/25/2014  640000.0        33       1.75         1620   \n",
       "\n",
       "       sqft_lot  floors  waterfront  view  ...  grade  sqft_above  \\\n",
       "15856      6000     1.0         0.0   0.0  ...      7        1040   \n",
       "\n",
       "       sqft_basement yr_built  yr_renovated  zipcode      lat     long  \\\n",
       "15856          580.0     1947           0.0    98103  47.6878 -122.331   \n",
       "\n",
       "       sqft_living15  sqft_lot15  \n",
       "15856           1330        4700  \n",
       "\n",
       "[1 rows x 21 columns]"
      ]
     },
     "execution_count": 7,
     "metadata": {},
     "output_type": "execute_result"
    }
   ],
   "source": [
    "# problems = data.loc[(data.bedrooms == 33)]\n",
    "data.loc[(data.bedrooms == 33)]"
   ]
  },
  {
   "cell_type": "markdown",
   "metadata": {},
   "source": [
    "### Investigate the relationship between sqft lving and the lot as well as the floors\n",
    "Prior precieved inequity resulted from addition of basement to living area"
   ]
  },
  {
   "cell_type": "markdown",
   "metadata": {},
   "source": [
    "### Investigate data.floors data"
   ]
  },
  {
   "cell_type": "code",
   "execution_count": 8,
   "metadata": {},
   "outputs": [
    {
     "data": {
      "text/html": [
       "<div>\n",
       "<style scoped>\n",
       "    .dataframe tbody tr th:only-of-type {\n",
       "        vertical-align: middle;\n",
       "    }\n",
       "\n",
       "    .dataframe tbody tr th {\n",
       "        vertical-align: top;\n",
       "    }\n",
       "\n",
       "    .dataframe thead th {\n",
       "        text-align: right;\n",
       "    }\n",
       "</style>\n",
       "<table border=\"1\" class=\"dataframe\">\n",
       "  <thead>\n",
       "    <tr style=\"text-align: right;\">\n",
       "      <th></th>\n",
       "      <th>id</th>\n",
       "      <th>date</th>\n",
       "      <th>price</th>\n",
       "      <th>bedrooms</th>\n",
       "      <th>bathrooms</th>\n",
       "      <th>sqft_living</th>\n",
       "      <th>sqft_lot</th>\n",
       "      <th>floors</th>\n",
       "      <th>waterfront</th>\n",
       "      <th>view</th>\n",
       "      <th>...</th>\n",
       "      <th>grade</th>\n",
       "      <th>sqft_above</th>\n",
       "      <th>sqft_basement</th>\n",
       "      <th>yr_built</th>\n",
       "      <th>yr_renovated</th>\n",
       "      <th>zipcode</th>\n",
       "      <th>lat</th>\n",
       "      <th>long</th>\n",
       "      <th>sqft_living15</th>\n",
       "      <th>sqft_lot15</th>\n",
       "    </tr>\n",
       "  </thead>\n",
       "  <tbody>\n",
       "    <tr>\n",
       "      <td>1547</td>\n",
       "      <td>8816400885</td>\n",
       "      <td>10/8/2014</td>\n",
       "      <td>450000.0</td>\n",
       "      <td>4</td>\n",
       "      <td>1.75</td>\n",
       "      <td>1640</td>\n",
       "      <td>1480</td>\n",
       "      <td>1.0</td>\n",
       "      <td>0.0</td>\n",
       "      <td>0.0</td>\n",
       "      <td>...</td>\n",
       "      <td>7</td>\n",
       "      <td>820</td>\n",
       "      <td>820.0</td>\n",
       "      <td>1912</td>\n",
       "      <td>0.0</td>\n",
       "      <td>98105</td>\n",
       "      <td>47.6684</td>\n",
       "      <td>-122.314</td>\n",
       "      <td>1420</td>\n",
       "      <td>2342</td>\n",
       "    </tr>\n",
       "    <tr>\n",
       "      <td>5224</td>\n",
       "      <td>9828702890</td>\n",
       "      <td>2/11/2015</td>\n",
       "      <td>760000.0</td>\n",
       "      <td>5</td>\n",
       "      <td>1.50</td>\n",
       "      <td>3050</td>\n",
       "      <td>2992</td>\n",
       "      <td>1.5</td>\n",
       "      <td>0.0</td>\n",
       "      <td>0.0</td>\n",
       "      <td>...</td>\n",
       "      <td>8</td>\n",
       "      <td>1920</td>\n",
       "      <td>1130.0</td>\n",
       "      <td>1931</td>\n",
       "      <td>0.0</td>\n",
       "      <td>98112</td>\n",
       "      <td>47.6210</td>\n",
       "      <td>-122.302</td>\n",
       "      <td>1200</td>\n",
       "      <td>1209</td>\n",
       "    </tr>\n",
       "    <tr>\n",
       "      <td>13240</td>\n",
       "      <td>2877104196</td>\n",
       "      <td>12/6/2014</td>\n",
       "      <td>760000.0</td>\n",
       "      <td>3</td>\n",
       "      <td>2.00</td>\n",
       "      <td>1780</td>\n",
       "      <td>1750</td>\n",
       "      <td>1.0</td>\n",
       "      <td>0.0</td>\n",
       "      <td>2.0</td>\n",
       "      <td>...</td>\n",
       "      <td>8</td>\n",
       "      <td>1400</td>\n",
       "      <td>380.0</td>\n",
       "      <td>1927</td>\n",
       "      <td>2014.0</td>\n",
       "      <td>98103</td>\n",
       "      <td>47.6797</td>\n",
       "      <td>-122.357</td>\n",
       "      <td>1780</td>\n",
       "      <td>3750</td>\n",
       "    </tr>\n",
       "    <tr>\n",
       "      <td>13265</td>\n",
       "      <td>3277800845</td>\n",
       "      <td>7/11/2014</td>\n",
       "      <td>370000.0</td>\n",
       "      <td>3</td>\n",
       "      <td>1.00</td>\n",
       "      <td>1170</td>\n",
       "      <td>1105</td>\n",
       "      <td>1.0</td>\n",
       "      <td>NaN</td>\n",
       "      <td>0.0</td>\n",
       "      <td>...</td>\n",
       "      <td>7</td>\n",
       "      <td>1170</td>\n",
       "      <td>0.0</td>\n",
       "      <td>1965</td>\n",
       "      <td>0.0</td>\n",
       "      <td>98126</td>\n",
       "      <td>47.5448</td>\n",
       "      <td>-122.375</td>\n",
       "      <td>1380</td>\n",
       "      <td>1399</td>\n",
       "    </tr>\n",
       "    <tr>\n",
       "      <td>13607</td>\n",
       "      <td>7011201475</td>\n",
       "      <td>5/27/2014</td>\n",
       "      <td>780000.0</td>\n",
       "      <td>3</td>\n",
       "      <td>3.00</td>\n",
       "      <td>2520</td>\n",
       "      <td>2152</td>\n",
       "      <td>1.5</td>\n",
       "      <td>0.0</td>\n",
       "      <td>0.0</td>\n",
       "      <td>...</td>\n",
       "      <td>8</td>\n",
       "      <td>1560</td>\n",
       "      <td>960.0</td>\n",
       "      <td>1925</td>\n",
       "      <td>2006.0</td>\n",
       "      <td>98119</td>\n",
       "      <td>47.6363</td>\n",
       "      <td>-122.371</td>\n",
       "      <td>1140</td>\n",
       "      <td>2152</td>\n",
       "    </tr>\n",
       "    <tr>\n",
       "      <td>13861</td>\n",
       "      <td>3705000120</td>\n",
       "      <td>7/29/2014</td>\n",
       "      <td>284000.0</td>\n",
       "      <td>3</td>\n",
       "      <td>2.25</td>\n",
       "      <td>2080</td>\n",
       "      <td>2050</td>\n",
       "      <td>1.5</td>\n",
       "      <td>0.0</td>\n",
       "      <td>0.0</td>\n",
       "      <td>...</td>\n",
       "      <td>7</td>\n",
       "      <td>1550</td>\n",
       "      <td>530.0</td>\n",
       "      <td>2003</td>\n",
       "      <td>0.0</td>\n",
       "      <td>98042</td>\n",
       "      <td>47.4199</td>\n",
       "      <td>-122.157</td>\n",
       "      <td>2080</td>\n",
       "      <td>2275</td>\n",
       "    </tr>\n",
       "    <tr>\n",
       "      <td>15729</td>\n",
       "      <td>9828702895</td>\n",
       "      <td>10/22/2014</td>\n",
       "      <td>700000.0</td>\n",
       "      <td>4</td>\n",
       "      <td>1.75</td>\n",
       "      <td>2420</td>\n",
       "      <td>520</td>\n",
       "      <td>1.5</td>\n",
       "      <td>0.0</td>\n",
       "      <td>0.0</td>\n",
       "      <td>...</td>\n",
       "      <td>7</td>\n",
       "      <td>2420</td>\n",
       "      <td>0.0</td>\n",
       "      <td>1900</td>\n",
       "      <td>0.0</td>\n",
       "      <td>98112</td>\n",
       "      <td>47.6209</td>\n",
       "      <td>-122.302</td>\n",
       "      <td>1200</td>\n",
       "      <td>1170</td>\n",
       "    </tr>\n",
       "    <tr>\n",
       "      <td>15896</td>\n",
       "      <td>4310701330</td>\n",
       "      <td>3/9/2015</td>\n",
       "      <td>415000.0</td>\n",
       "      <td>3</td>\n",
       "      <td>1.50</td>\n",
       "      <td>1220</td>\n",
       "      <td>835</td>\n",
       "      <td>1.5</td>\n",
       "      <td>0.0</td>\n",
       "      <td>0.0</td>\n",
       "      <td>...</td>\n",
       "      <td>6</td>\n",
       "      <td>1220</td>\n",
       "      <td>0.0</td>\n",
       "      <td>1950</td>\n",
       "      <td>0.0</td>\n",
       "      <td>98103</td>\n",
       "      <td>47.6981</td>\n",
       "      <td>-122.341</td>\n",
       "      <td>1360</td>\n",
       "      <td>1251</td>\n",
       "    </tr>\n",
       "    <tr>\n",
       "      <td>16917</td>\n",
       "      <td>5016002275</td>\n",
       "      <td>6/2/2014</td>\n",
       "      <td>610000.0</td>\n",
       "      <td>5</td>\n",
       "      <td>2.50</td>\n",
       "      <td>3990</td>\n",
       "      <td>3839</td>\n",
       "      <td>1.0</td>\n",
       "      <td>NaN</td>\n",
       "      <td>0.0</td>\n",
       "      <td>...</td>\n",
       "      <td>8</td>\n",
       "      <td>1990</td>\n",
       "      <td>2000.0</td>\n",
       "      <td>1962</td>\n",
       "      <td>0.0</td>\n",
       "      <td>98112</td>\n",
       "      <td>47.6236</td>\n",
       "      <td>-122.299</td>\n",
       "      <td>2090</td>\n",
       "      <td>5000</td>\n",
       "    </tr>\n",
       "    <tr>\n",
       "      <td>17910</td>\n",
       "      <td>8032700175</td>\n",
       "      <td>10/27/2014</td>\n",
       "      <td>420000.0</td>\n",
       "      <td>4</td>\n",
       "      <td>1.00</td>\n",
       "      <td>1510</td>\n",
       "      <td>1501</td>\n",
       "      <td>1.5</td>\n",
       "      <td>0.0</td>\n",
       "      <td>0.0</td>\n",
       "      <td>...</td>\n",
       "      <td>7</td>\n",
       "      <td>1510</td>\n",
       "      <td>0.0</td>\n",
       "      <td>1906</td>\n",
       "      <td>0.0</td>\n",
       "      <td>98103</td>\n",
       "      <td>47.6526</td>\n",
       "      <td>-122.342</td>\n",
       "      <td>1560</td>\n",
       "      <td>1602</td>\n",
       "    </tr>\n",
       "    <tr>\n",
       "      <td>20963</td>\n",
       "      <td>9895000040</td>\n",
       "      <td>7/3/2014</td>\n",
       "      <td>399900.0</td>\n",
       "      <td>2</td>\n",
       "      <td>1.75</td>\n",
       "      <td>1410</td>\n",
       "      <td>1005</td>\n",
       "      <td>1.5</td>\n",
       "      <td>0.0</td>\n",
       "      <td>0.0</td>\n",
       "      <td>...</td>\n",
       "      <td>9</td>\n",
       "      <td>900</td>\n",
       "      <td>510.0</td>\n",
       "      <td>2011</td>\n",
       "      <td>0.0</td>\n",
       "      <td>98027</td>\n",
       "      <td>47.5446</td>\n",
       "      <td>-122.018</td>\n",
       "      <td>1440</td>\n",
       "      <td>1188</td>\n",
       "    </tr>\n",
       "  </tbody>\n",
       "</table>\n",
       "<p>11 rows × 21 columns</p>\n",
       "</div>"
      ],
      "text/plain": [
       "               id        date     price  bedrooms  bathrooms  sqft_living  \\\n",
       "1547   8816400885   10/8/2014  450000.0         4       1.75         1640   \n",
       "5224   9828702890   2/11/2015  760000.0         5       1.50         3050   \n",
       "13240  2877104196   12/6/2014  760000.0         3       2.00         1780   \n",
       "13265  3277800845   7/11/2014  370000.0         3       1.00         1170   \n",
       "13607  7011201475   5/27/2014  780000.0         3       3.00         2520   \n",
       "13861  3705000120   7/29/2014  284000.0         3       2.25         2080   \n",
       "15729  9828702895  10/22/2014  700000.0         4       1.75         2420   \n",
       "15896  4310701330    3/9/2015  415000.0         3       1.50         1220   \n",
       "16917  5016002275    6/2/2014  610000.0         5       2.50         3990   \n",
       "17910  8032700175  10/27/2014  420000.0         4       1.00         1510   \n",
       "20963  9895000040    7/3/2014  399900.0         2       1.75         1410   \n",
       "\n",
       "       sqft_lot  floors  waterfront  view  ...  grade  sqft_above  \\\n",
       "1547       1480     1.0         0.0   0.0  ...      7         820   \n",
       "5224       2992     1.5         0.0   0.0  ...      8        1920   \n",
       "13240      1750     1.0         0.0   2.0  ...      8        1400   \n",
       "13265      1105     1.0         NaN   0.0  ...      7        1170   \n",
       "13607      2152     1.5         0.0   0.0  ...      8        1560   \n",
       "13861      2050     1.5         0.0   0.0  ...      7        1550   \n",
       "15729       520     1.5         0.0   0.0  ...      7        2420   \n",
       "15896       835     1.5         0.0   0.0  ...      6        1220   \n",
       "16917      3839     1.0         NaN   0.0  ...      8        1990   \n",
       "17910      1501     1.5         0.0   0.0  ...      7        1510   \n",
       "20963      1005     1.5         0.0   0.0  ...      9         900   \n",
       "\n",
       "       sqft_basement yr_built  yr_renovated  zipcode      lat     long  \\\n",
       "1547           820.0     1912           0.0    98105  47.6684 -122.314   \n",
       "5224          1130.0     1931           0.0    98112  47.6210 -122.302   \n",
       "13240          380.0     1927        2014.0    98103  47.6797 -122.357   \n",
       "13265            0.0     1965           0.0    98126  47.5448 -122.375   \n",
       "13607          960.0     1925        2006.0    98119  47.6363 -122.371   \n",
       "13861          530.0     2003           0.0    98042  47.4199 -122.157   \n",
       "15729            0.0     1900           0.0    98112  47.6209 -122.302   \n",
       "15896            0.0     1950           0.0    98103  47.6981 -122.341   \n",
       "16917         2000.0     1962           0.0    98112  47.6236 -122.299   \n",
       "17910            0.0     1906           0.0    98103  47.6526 -122.342   \n",
       "20963          510.0     2011           0.0    98027  47.5446 -122.018   \n",
       "\n",
       "       sqft_living15  sqft_lot15  \n",
       "1547            1420        2342  \n",
       "5224            1200        1209  \n",
       "13240           1780        3750  \n",
       "13265           1380        1399  \n",
       "13607           1140        2152  \n",
       "13861           2080        2275  \n",
       "15729           1200        1170  \n",
       "15896           1360        1251  \n",
       "16917           2090        5000  \n",
       "17910           1560        1602  \n",
       "20963           1440        1188  \n",
       "\n",
       "[11 rows x 21 columns]"
      ]
     },
     "execution_count": 8,
     "metadata": {},
     "output_type": "execute_result"
    }
   ],
   "source": [
    "data.loc[(data.sqft_living >= data.sqft_lot)].loc[(data.floors < 2)]"
   ]
  },
  {
   "cell_type": "markdown",
   "metadata": {},
   "source": [
    "Floors are listed to include __0.5__. Open source research indicates this signifies a __loft or attic__."
   ]
  },
  {
   "cell_type": "markdown",
   "metadata": {},
   "source": [
    "### Create attic column where 0 is no attic and 1 is an attic"
   ]
  },
  {
   "cell_type": "code",
   "execution_count": 9,
   "metadata": {},
   "outputs": [],
   "source": [
    "data['attic'] = data['floors'].apply(lambda f: 0 if f - int(f) == 0 else 1)"
   ]
  },
  {
   "cell_type": "markdown",
   "metadata": {},
   "source": [
    "### Some of the values for sqft_basement are '?'"
   ]
  },
  {
   "cell_type": "code",
   "execution_count": 10,
   "metadata": {},
   "outputs": [
    {
     "data": {
      "text/plain": [
       "454"
      ]
     },
     "execution_count": 10,
     "metadata": {},
     "output_type": "execute_result"
    }
   ],
   "source": [
    "data.sqft_basement[data.sqft_basement == '?'].count()"
   ]
  },
  {
   "cell_type": "markdown",
   "metadata": {},
   "source": [
    "In total, ther are 454 rows with '?' instead of numbers in the sqft_basement column.  454 rows represent 2.1% of all rows"
   ]
  },
  {
   "cell_type": "markdown",
   "metadata": {},
   "source": [
    "### Data Cleaning decisions\n",
    "The following decisions were made regarding the King County house price data analysis:\n",
    "- the waterfront and yr_renovated columns are missing between 11% and 17.8% of their total row values and replaced with imputation\n",
    "- For the view and sqft_basement, they represent far fewer missing rows and therefore these rows will be removed\n",
    "- The house with 33 bedrooms will be removed"
   ]
  },
  {
   "cell_type": "code",
   "execution_count": 11,
   "metadata": {},
   "outputs": [],
   "source": [
    "# Create funtion to impute by mean\n",
    "def impute_mean(col):\n",
    "    return col.fillna(col.mean())"
   ]
  },
  {
   "cell_type": "code",
   "execution_count": 12,
   "metadata": {},
   "outputs": [],
   "source": [
    "# Impute waterfront\n",
    "data.waterfront = impute_mean(data.waterfront)"
   ]
  },
  {
   "cell_type": "code",
   "execution_count": 19,
   "metadata": {},
   "outputs": [],
   "source": [
    "# Impute yr_renovated\n",
    "data.yr_renovated = impute_mean(data.yr_renovated)"
   ]
  },
  {
   "cell_type": "code",
   "execution_count": 20,
   "metadata": {},
   "outputs": [],
   "source": [
    "# Remove null rows for view and '?' in sqft_basement\n",
    "data = data.dropna()\n",
    "data['sqft_basement'] = data['sqft_basement'].apply(lambda b: 0 if b == '?' else b)"
   ]
  },
  {
   "cell_type": "code",
   "execution_count": 21,
   "metadata": {},
   "outputs": [],
   "source": [
    "# Drop the house (row) with 33 bedrooms\n",
    "data = data.drop(data[data.bedrooms == 33].index, axis=0)"
   ]
  },
  {
   "cell_type": "markdown",
   "metadata": {},
   "source": [
    "### Confirm nulls are gone"
   ]
  },
  {
   "cell_type": "code",
   "execution_count": 31,
   "metadata": {},
   "outputs": [
    {
     "name": "stdout",
     "output_type": "stream",
     "text": [
      "<class 'pandas.core.frame.DataFrame'>\n",
      "Int64Index: 21533 entries, 0 to 21596\n",
      "Data columns (total 22 columns):\n",
      "id               21533 non-null int64\n",
      "date             21533 non-null object\n",
      "price            21533 non-null float64\n",
      "bedrooms         21533 non-null int64\n",
      "bathrooms        21533 non-null float64\n",
      "sqft_living      21533 non-null int64\n",
      "sqft_lot         21533 non-null int64\n",
      "floors           21533 non-null float64\n",
      "waterfront       21533 non-null float64\n",
      "view             21533 non-null float64\n",
      "condition        21533 non-null int64\n",
      "grade            21533 non-null int64\n",
      "sqft_above       21533 non-null int64\n",
      "sqft_basement    21533 non-null object\n",
      "yr_built         21533 non-null int64\n",
      "yr_renovated     21533 non-null float64\n",
      "zipcode          21533 non-null int64\n",
      "lat              21533 non-null float64\n",
      "long             21533 non-null float64\n",
      "sqft_living15    21533 non-null int64\n",
      "sqft_lot15       21533 non-null int64\n",
      "attic            21533 non-null int64\n",
      "dtypes: float64(8), int64(12), object(2)\n",
      "memory usage: 3.8+ MB\n"
     ]
    }
   ],
   "source": [
    "data.info();"
   ]
  },
  {
   "cell_type": "markdown",
   "metadata": {},
   "source": [
    "### Export data to data_cleaned.csv"
   ]
  },
  {
   "cell_type": "code",
   "execution_count": 32,
   "metadata": {},
   "outputs": [],
   "source": [
    "data.to_csv('../../mod2_project/data/data_cleaned.csv')"
   ]
  },
  {
   "cell_type": "code",
   "execution_count": null,
   "metadata": {},
   "outputs": [],
   "source": []
  }
 ],
 "metadata": {
  "kernelspec": {
   "display_name": "Python 3",
   "language": "python",
   "name": "python3"
  },
  "language_info": {
   "codemirror_mode": {
    "name": "ipython",
    "version": 3
   },
   "file_extension": ".py",
   "mimetype": "text/x-python",
   "name": "python",
   "nbconvert_exporter": "python",
   "pygments_lexer": "ipython3",
   "version": "3.7.4"
  }
 },
 "nbformat": 4,
 "nbformat_minor": 2
}
