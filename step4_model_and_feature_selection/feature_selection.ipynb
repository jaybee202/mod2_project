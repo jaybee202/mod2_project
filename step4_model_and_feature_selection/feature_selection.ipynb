{
 "cells": [
  {
   "cell_type": "markdown",
   "metadata": {},
   "source": [
    "### Import packages"
   ]
  },
  {
   "cell_type": "code",
   "execution_count": 1,
   "metadata": {},
   "outputs": [],
   "source": [
    "import pandas as pd\n",
    "from pandas.plotting import scatter_matrix\n",
    "import numpy as np\n",
    "import matplotlib.pyplot as plt \n",
    "import statsmodels.api as sm\n",
    "from statsmodels.sandbox.regression.predstd import wls_prediction_std\n",
    "import sklearn.preprocessing\n",
    "from sklearn.preprocessing import OneHotEncoder\n",
    "from sklearn.compose import ColumnTransformer\n",
    "from sklearn.model_selection import train_test_split\n",
    "from scipy.stats import stats\n",
    "import pickle\n",
    "import matplotlib.pyplot as plt\n",
    "import seaborn as sns\n",
    "from sklearn.preprocessing import PolynomialFeatures\n",
    "from sklearn.linear_model import LinearRegression\n",
    "from scipy import stats\n",
    "\n",
    "import warnings\n",
    "warnings.filterwarnings(\"ignore\")"
   ]
  },
  {
   "cell_type": "markdown",
   "metadata": {},
   "source": [
    "### Create function to calculate pvalues from a sklearn linear regression\n",
    "- With thanks to JARH from stack overflow <br>\n",
    "https://stackoverflow.com/questions/27928275/find-p-value-significance-in-scikit-learn-linearregression"
   ]
  },
  {
   "cell_type": "code",
   "execution_count": 2,
   "metadata": {},
   "outputs": [],
   "source": [
    "def get_pvals(X_train, y_train):\n",
    "    cols = np.array(X_train.columns.values)\n",
    "    cols = np.insert(cols, 0, 'coef', axis=0)\n",
    "\n",
    "    lm = LinearRegression()\n",
    "    lm.fit(X_train, y_train)\n",
    "    params = np.append(lm.intercept_,lm.coef_)\n",
    "    predictions = lm.predict(X_train)\n",
    "\n",
    "    newX = np.append(np.ones((len(X_train),1)), X_train, axis=1)\n",
    "    MSE = (sum((y_train - predictions)**2)) / (len(newX) - len(newX[0]))\n",
    "\n",
    "    var_b = MSE*(np.linalg.inv(np.dot(newX.T,newX)).diagonal())\n",
    "    sd_b = np.sqrt(var_b)\n",
    "    ts_b = params/ sd_b\n",
    "\n",
    "    p_values =[2*(1-stats.t.cdf(np.abs(i),(len(newX)-1))) for i in ts_b]\n",
    "\n",
    "    sd_b = np.round(sd_b,3)\n",
    "    ts_b = np.round(ts_b,3)\n",
    "    p_values = np.round(p_values,3)\n",
    "    params = np.round(params,4)\n",
    "\n",
    "    pvals = pd.DataFrame()\n",
    "    pvals['feature'], pvals['coef'], pvals['standard_error'], pvals['t_vals'], pvals['pval'] = \\\n",
    "        [cols, params,sd_b,ts_b,p_values]\n",
    "    \n",
    "    return pvals"
   ]
  },
  {
   "cell_type": "markdown",
   "metadata": {},
   "source": [
    "### Function to identify highest pvalue from an OLS summary table, used later for feature elemination"
   ]
  },
  {
   "cell_type": "code",
   "execution_count": 17,
   "metadata": {},
   "outputs": [],
   "source": [
    "def get_kill_col(X_train, y_train):\n",
    "    # Get pvalues from get_pvals\n",
    "    pval = get_pvals(X_train, y_train)\n",
    "    \n",
    "    # Identify column with highest pvalue\n",
    "    kill_cols = pval[pval['pval'] == pval['pval'].max()]\n",
    "    highest_p_col = kill_cols['feature'].values\n",
    "    highest_p = kill_cols['pval'].values\n",
    "    \n",
    "    return highest_p_col[0], highest_p[0]"
   ]
  },
  {
   "cell_type": "markdown",
   "metadata": {},
   "source": [
    "### Function to create an OLS linear regression"
   ]
  },
  {
   "cell_type": "code",
   "execution_count": 18,
   "metadata": {},
   "outputs": [],
   "source": [
    "def onetime_ols(X_train, y_train):\n",
    "    # Create x constants\n",
    "    Xconst = sm.add_constant(X_train)\n",
    "\n",
    "    # Create OLS model and summary\n",
    "    ols_model = sm.OLS(y_train, Xconst, hasconst= True)\n",
    "    model = ols_model.fit()\n",
    "    results = model.summary()\n",
    "    \n",
    "    return model, results"
   ]
  },
  {
   "cell_type": "markdown",
   "metadata": {},
   "source": [
    "### Retrieve training data"
   ]
  },
  {
   "cell_type": "code",
   "execution_count": 83,
   "metadata": {},
   "outputs": [],
   "source": [
    "X_train = pd.read_csv('../data/X_train2.csv', index_col=0)\n",
    "\n",
    "pickle_in = open('../data/y_train.pickle', 'rb')\n",
    "y_train = pickle.load(pickle_in)\n",
    "\n",
    "# y_train = np.log(y_train)"
   ]
  },
  {
   "cell_type": "code",
   "execution_count": 84,
   "metadata": {},
   "outputs": [],
   "source": [
    "y_log = np.log(y_train)"
   ]
  },
  {
   "cell_type": "code",
   "execution_count": 85,
   "metadata": {},
   "outputs": [],
   "source": [
    "y_test = np.exp(y_log)"
   ]
  },
  {
   "cell_type": "code",
   "execution_count": 86,
   "metadata": {},
   "outputs": [
    {
     "data": {
      "text/plain": [
       "798999.9999999998"
      ]
     },
     "execution_count": 86,
     "metadata": {},
     "output_type": "execute_result"
    }
   ],
   "source": [
    "y_test[1]"
   ]
  },
  {
   "cell_type": "code",
   "execution_count": 87,
   "metadata": {},
   "outputs": [
    {
     "data": {
      "text/plain": [
       "799000.0"
      ]
     },
     "execution_count": 87,
     "metadata": {},
     "output_type": "execute_result"
    }
   ],
   "source": [
    "y_train[1]"
   ]
  },
  {
   "cell_type": "markdown",
   "metadata": {},
   "source": [
    "### Loop get_kill_col to recursively remove lest significant features to model\n",
    "- Loop terminates once the largest p-value in the regression is less than 0.05"
   ]
  },
  {
   "cell_type": "code",
   "execution_count": 88,
   "metadata": {},
   "outputs": [
    {
     "name": "stdout",
     "output_type": "stream",
     "text": [
      "run1, column is zipcode_98022 with pval of 0.05\n"
     ]
    }
   ],
   "source": [
    "xt = X_train\n",
    "yt = y_train\n",
    "p = 1\n",
    "run = 1\n",
    "results = {}\n",
    "kill_cols = []\n",
    "\n",
    "while p > 0.05:\n",
    "        run_num = 'run{}'.format(run)\n",
    "        high_col, high_p = get_kill_col(xt, yt)\n",
    "        xt = xt.drop(columns=high_col)\n",
    "        print('{}, column is {} with pval of {}'.format(run_num, high_col, high_p))\n",
    "        kill_cols.append(high_col)\n",
    "        run += 1\n",
    "        p = high_p\n",
    "\n",
    "results;"
   ]
  },
  {
   "cell_type": "markdown",
   "metadata": {},
   "source": [
    "### Capture columns to remove from the model and remove them"
   ]
  },
  {
   "cell_type": "code",
   "execution_count": 89,
   "metadata": {},
   "outputs": [],
   "source": [
    "kill_cols\n",
    "\n",
    "X_train2 = X_train.drop(columns=kill_cols)"
   ]
  }
 ],
 "metadata": {
  "kernelspec": {
   "display_name": "Python 3",
   "language": "python",
   "name": "python3"
  },
  "language_info": {
   "codemirror_mode": {
    "name": "ipython",
    "version": 3
   },
   "file_extension": ".py",
   "mimetype": "text/x-python",
   "name": "python",
   "nbconvert_exporter": "python",
   "pygments_lexer": "ipython3",
   "version": "3.7.4"
  }
 },
 "nbformat": 4,
 "nbformat_minor": 2
}
