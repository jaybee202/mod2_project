{
 "cells": [
  {
   "cell_type": "code",
   "execution_count": 128,
   "metadata": {},
   "outputs": [],
   "source": [
    "import pandas as pd\n",
    "from pandas.plotting import scatter_matrix\n",
    "import numpy as np\n",
    "import matplotlib.pyplot as plt \n",
    "import statsmodels.api as sm\n",
    "from statsmodels.sandbox.regression.predstd import wls_prediction_std\n",
    "import sklearn.preprocessing\n",
    "from sklearn.preprocessing import OneHotEncoder\n",
    "from sklearn.compose import ColumnTransformer\n",
    "from sklearn.model_selection import train_test_split\n",
    "from scipy.stats import stats\n",
    "import pickle\n",
    "import matplotlib.pyplot as plt\n",
    "import seaborn as sns\n",
    "\n",
    "import warnings\n",
    "warnings.filterwarnings(\"ignore\")"
   ]
  },
  {
   "cell_type": "code",
   "execution_count": 129,
   "metadata": {},
   "outputs": [],
   "source": [
    "data = pd.read_csv('../data/data_cleaned.csv', index_col=0)\n"
   ]
  },
  {
   "cell_type": "code",
   "execution_count": 130,
   "metadata": {},
   "outputs": [],
   "source": [
    "zdf = data.groupby(['zipcode']).mean()\n",
    "zdf = zdf.reset_index()"
   ]
  },
  {
   "cell_type": "code",
   "execution_count": 131,
   "metadata": {},
   "outputs": [],
   "source": [
    "cols = list(zdf.columns)\n",
    "cols.remove('price')\n",
    "cols.remove('zipcode')"
   ]
  },
  {
   "cell_type": "code",
   "execution_count": 132,
   "metadata": {},
   "outputs": [],
   "source": [
    "zdf = zdf.drop(columns=cols)"
   ]
  },
  {
   "cell_type": "code",
   "execution_count": 142,
   "metadata": {},
   "outputs": [
    {
     "data": {
      "text/html": [
       "<div>\n",
       "<style scoped>\n",
       "    .dataframe tbody tr th:only-of-type {\n",
       "        vertical-align: middle;\n",
       "    }\n",
       "\n",
       "    .dataframe tbody tr th {\n",
       "        vertical-align: top;\n",
       "    }\n",
       "\n",
       "    .dataframe thead th {\n",
       "        text-align: right;\n",
       "    }\n",
       "</style>\n",
       "<table border=\"1\" class=\"dataframe\">\n",
       "  <thead>\n",
       "    <tr style=\"text-align: right;\">\n",
       "      <th></th>\n",
       "      <th>zipcode</th>\n",
       "      <th>price</th>\n",
       "    </tr>\n",
       "  </thead>\n",
       "  <tbody>\n",
       "    <tr>\n",
       "      <td>24</td>\n",
       "      <td>98039</td>\n",
       "      <td>$2,161,300.00</td>\n",
       "    </tr>\n",
       "    <tr>\n",
       "      <td>3</td>\n",
       "      <td>98004</td>\n",
       "      <td>$1,358,522.48</td>\n",
       "    </tr>\n",
       "    <tr>\n",
       "      <td>25</td>\n",
       "      <td>98040</td>\n",
       "      <td>$1,183,230.70</td>\n",
       "    </tr>\n",
       "    <tr>\n",
       "      <td>48</td>\n",
       "      <td>98112</td>\n",
       "      <td>$1,094,695.12</td>\n",
       "    </tr>\n",
       "    <tr>\n",
       "      <td>41</td>\n",
       "      <td>98102</td>\n",
       "      <td>$899,607.67</td>\n",
       "    </tr>\n",
       "  </tbody>\n",
       "</table>\n",
       "</div>"
      ],
      "text/plain": [
       "    zipcode         price\n",
       "24    98039 $2,161,300.00\n",
       "3     98004 $1,358,522.48\n",
       "25    98040 $1,183,230.70\n",
       "48    98112 $1,094,695.12\n",
       "41    98102   $899,607.67"
      ]
     },
     "execution_count": 142,
     "metadata": {},
     "output_type": "execute_result"
    }
   ],
   "source": [
    "pd.options.display.float_format = '${:,.2f}'.format\n",
    "zdf.sort_values(by='price', ascending=False).head()"
   ]
  },
  {
   "cell_type": "code",
   "execution_count": 134,
   "metadata": {},
   "outputs": [
    {
     "data": {
      "text/plain": [
       "560774.7874477451"
      ]
     },
     "execution_count": 134,
     "metadata": {},
     "output_type": "execute_result"
    }
   ],
   "source": [
    "zdf['price'].mean()"
   ]
  },
  {
   "cell_type": "code",
   "execution_count": null,
   "metadata": {},
   "outputs": [],
   "source": []
  },
  {
   "cell_type": "code",
   "execution_count": 135,
   "metadata": {},
   "outputs": [],
   "source": [
    "# All zipcode numerical values\n",
    "zips = zdf['zipcode'].values\n"
   ]
  },
  {
   "cell_type": "code",
   "execution_count": 136,
   "metadata": {},
   "outputs": [
    {
     "data": {
      "text/plain": [
       "Index(['zipcode_98002', 'zipcode_98003', 'zipcode_98004', 'zipcode_98005',\n",
       "       'zipcode_98006', 'zipcode_98007', 'zipcode_98008', 'zipcode_98010',\n",
       "       'zipcode_98011', 'zipcode_98014', 'zipcode_98019', 'zipcode_98022',\n",
       "       'zipcode_98023', 'zipcode_98024', 'zipcode_98027', 'zipcode_98028',\n",
       "       'zipcode_98029', 'zipcode_98030', 'zipcode_98031', 'zipcode_98032',\n",
       "       'zipcode_98033', 'zipcode_98034', 'zipcode_98038', 'zipcode_98039',\n",
       "       'zipcode_98040', 'zipcode_98042', 'zipcode_98045', 'zipcode_98052',\n",
       "       'zipcode_98053', 'zipcode_98055', 'zipcode_98056', 'zipcode_98058',\n",
       "       'zipcode_98059', 'zipcode_98065', 'zipcode_98070', 'zipcode_98072',\n",
       "       'zipcode_98074', 'zipcode_98075', 'zipcode_98077', 'zipcode_98092',\n",
       "       'zipcode_98102', 'zipcode_98103', 'zipcode_98105', 'zipcode_98106',\n",
       "       'zipcode_98107', 'zipcode_98108', 'zipcode_98109', 'zipcode_98112',\n",
       "       'zipcode_98115', 'zipcode_98116', 'zipcode_98117', 'zipcode_98118',\n",
       "       'zipcode_98119', 'zipcode_98122', 'zipcode_98125', 'zipcode_98126',\n",
       "       'zipcode_98133', 'zipcode_98136', 'zipcode_98144', 'zipcode_98146',\n",
       "       'zipcode_98148', 'zipcode_98155', 'zipcode_98166', 'zipcode_98168',\n",
       "       'zipcode_98177', 'zipcode_98178', 'zipcode_98188', 'zipcode_98198',\n",
       "       'zipcode_98199', 'bedrooms', 'bathrooms', 'sqft_living', 'sqft_lot',\n",
       "       'floors', 'waterfront', 'view', 'condition', 'grade', 'sqft_above',\n",
       "       'sqft_basement', 'yr_built', 'yr_renovated', 'sqft_living15',\n",
       "       'sqft_lot15', 'attic'],\n",
       "      dtype='object')"
      ]
     },
     "execution_count": 136,
     "metadata": {},
     "output_type": "execute_result"
    }
   ],
   "source": [
    "# Import Xtrain in order to get zip columns\n",
    "xt = pd.read_csv('../data/X_train.csv', index_col=0)\n",
    "xtc = xt.columns\n",
    "xtc"
   ]
  },
  {
   "cell_type": "code",
   "execution_count": 137,
   "metadata": {},
   "outputs": [
    {
     "name": "stdout",
     "output_type": "stream",
     "text": [
      "98001\n"
     ]
    }
   ],
   "source": [
    "zips69 = np.array(zips_as_cols)\n",
    "zips70 = np.array(zips)\n",
    "\n",
    "for z in zips70:\n",
    "    if np.isin(z, zips69) == False:\n",
    "        print(z)\n",
    "    else:\n",
    "        pass"
   ]
  },
  {
   "cell_type": "code",
   "execution_count": 138,
   "metadata": {},
   "outputs": [
    {
     "data": {
      "text/plain": [
       "69"
      ]
     },
     "execution_count": 138,
     "metadata": {},
     "output_type": "execute_result"
    }
   ],
   "source": [
    "len(zips_as_cols)"
   ]
  },
  {
   "cell_type": "code",
   "execution_count": 139,
   "metadata": {},
   "outputs": [
    {
     "data": {
      "text/plain": [
       "70"
      ]
     },
     "execution_count": 139,
     "metadata": {},
     "output_type": "execute_result"
    }
   ],
   "source": [
    "len(zips)"
   ]
  },
  {
   "cell_type": "markdown",
   "metadata": {},
   "source": [
    "One hot encoding removed __zipcode 98001__ with __mean of $/280,881.19__.  The population mean equals $560,774.78"
   ]
  },
  {
   "cell_type": "code",
   "execution_count": 140,
   "metadata": {},
   "outputs": [
    {
     "data": {
      "text/plain": [
       "280881.2"
      ]
     },
     "execution_count": 140,
     "metadata": {},
     "output_type": "execute_result"
    }
   ],
   "source": [
    "2.808812e+05\n",
    "\n",
    "#280,000"
   ]
  },
  {
   "cell_type": "code",
   "execution_count": 143,
   "metadata": {},
   "outputs": [],
   "source": [
    "# zip 98039, mean price 2,161,300.00"
   ]
  },
  {
   "cell_type": "code",
   "execution_count": 146,
   "metadata": {},
   "outputs": [
    {
     "data": {
      "text/plain": [
       "77.18928571428572"
      ]
     },
     "execution_count": 146,
     "metadata": {},
     "output_type": "execute_result"
    }
   ],
   "source": [
    "21613000/280000"
   ]
  },
  {
   "cell_type": "code",
   "execution_count": null,
   "metadata": {},
   "outputs": [],
   "source": []
  }
 ],
 "metadata": {
  "kernelspec": {
   "display_name": "Python 3",
   "language": "python",
   "name": "python3"
  },
  "language_info": {
   "codemirror_mode": {
    "name": "ipython",
    "version": 3
   },
   "file_extension": ".py",
   "mimetype": "text/x-python",
   "name": "python",
   "nbconvert_exporter": "python",
   "pygments_lexer": "ipython3",
   "version": "3.7.4"
  }
 },
 "nbformat": 4,
 "nbformat_minor": 2
}
